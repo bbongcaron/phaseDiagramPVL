{
 "cells": [
  {
   "cell_type": "markdown",
   "metadata": {},
   "source": [
    "**Importing Pandas**"
   ]
  },
  {
   "cell_type": "code",
   "execution_count": 1,
   "metadata": {},
   "outputs": [],
   "source": [
    "import pandas as pd"
   ]
  },
  {
   "cell_type": "markdown",
   "metadata": {},
   "source": [
    "**Read in Antoine's Equation Coefficients Excel Spreadsheet**"
   ]
  },
  {
   "cell_type": "code",
   "execution_count": 2,
   "metadata": {},
   "outputs": [
    {
     "name": "stdout",
     "output_type": "stream",
     "text": [
      "            Component        A         B        C  Low T   High T\n",
      "0        Acetaldehyde  7.31377  1175.270  244.272 -105.0   192.90\n",
      "1         Acetic Acid  7.27642  1326.650  183.913  -42.8   318.80\n",
      "2         Acetic Acid  7.18807  1516.700  225.000    0.0    36.00\n",
      "3    Acetic Anhydride  7.14948  1444.718  199.817   62.8   139.40\n",
      "4             Acetone  7.31414  1315.670  240.479  -94.7   235.10\n",
      "..                ...      ...       ...      ...    ...      ...\n",
      "141             Water  8.05573  1723.640  233.076    0.0   374.00\n",
      "142          m-Xylene  7.18115  1573.020  226.671  -47.9   343.90\n",
      "143          o-Xylene  7.14914  1566.590  222.596  -25.2   357.22\n",
      "144          p-Xylene  7.15471  1553.950  225.230   13.3   343.10\n",
      "145              Zinc  8.44744  6819.180  318.012  419.6  2896.90\n",
      "\n",
      "[146 rows x 6 columns]\n"
     ]
    }
   ],
   "source": [
    "antoines = pd.read_excel('antoinesCoefficients.xlsx', engine=\"openpyxl\")\n",
    "print(antoines)"
   ]
  },
  {
   "cell_type": "code",
   "execution_count": 5,
   "metadata": {},
   "outputs": [
    {
     "name": "stdout",
     "output_type": "stream",
     "text": [
      "Enter Component 1: acetic acid\n",
      "Enter Component 2: water\n",
      "You selected a binary mixture of acetic acid and water!\n"
     ]
    }
   ],
   "source": [
    "component1 = input(\"Enter Component 1: \")\n",
    "component2 = input(\"Enter Component 2: \")\n",
    "print(\"You selected a binary mixture of \" + component1 + \" and \" + component2 + \"!\")"
   ]
  },
  {
   "cell_type": "code",
   "execution_count": null,
   "metadata": {},
   "outputs": [],
   "source": []
  }
 ],
 "metadata": {
  "kernelspec": {
   "display_name": "Python 3",
   "language": "python",
   "name": "python3"
  },
  "language_info": {
   "codemirror_mode": {
    "name": "ipython",
    "version": 3
   },
   "file_extension": ".py",
   "mimetype": "text/x-python",
   "name": "python",
   "nbconvert_exporter": "python",
   "pygments_lexer": "ipython3",
   "version": "3.9.0"
  }
 },
 "nbformat": 4,
 "nbformat_minor": 4
}
